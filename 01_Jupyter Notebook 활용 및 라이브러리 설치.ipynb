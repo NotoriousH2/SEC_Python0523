{
 "cells": [
  {
   "cell_type": "markdown",
   "id": "edbc25c4",
   "metadata": {},
   "source": [
    "# Jupyter Notebook 활용 및 Python 분석 환경 설정\n",
    "\n",
    "### 주요 내용\n",
    "\n",
    "1. Jupyter notebook의 주요 기능 및 단축키 등 설명\n",
    "2. pip를 활용한 라이브러리 설치\n",
    "\n",
    "<br>\n",
    "\n",
    "### 목표 \n",
    "1. Jupyter Notebook을 활용해서 Python 코드를 작성하고 실행할 수 있다.\n",
    "2. 작업 폴더(working directory)의 개념을 이해한다.\n",
    "3. 라이브러리(library) 활용 목적과 절차를 이해한다.\n",
    "\n",
    "\n",
    "<br>\n",
    "<hr>\n",
    "<br>"
   ]
  },
  {
   "cell_type": "markdown",
   "id": "efd228f4",
   "metadata": {},
   "source": [
    "## 1. Jupyter Notebook 사용법, 기능 및 단축키 소개  \n",
    "\n",
    "Jupyter notebook은 셀(cell) 단위로 프로그램을 실행할 수 있습니다.   \n",
    "일반적 파이썬 프로그래밍 툴의 경우 전체 코드를 한번에 실행해야 하지만   \n",
    "cell을 나눠서 분류하면 코드를 몇 줄 단위로 끊어서 실행할 수 있습니다.\n",
    "<br>\n",
    "<br>\n",
    "\n"
   ]
  },
  {
   "cell_type": "code",
   "execution_count": 1,
   "id": "95e87dce",
   "metadata": {},
   "outputs": [
    {
     "name": "stdout",
     "output_type": "stream",
     "text": [
      "첫 번째 셀 실행해보기!\n"
     ]
    }
   ],
   "source": [
    "print('첫 번째 셀 실행해보기!')"
   ]
  },
  {
   "cell_type": "markdown",
   "id": "287b80c7",
   "metadata": {},
   "source": [
    "<br>\n",
    "상단에 있는 셀을 실행하여 결과를 확인해 봅시다.   \n",
    "\n",
    "셀을 클릭하고 화면 상단의 Run 버튼을 눌러 보세요.   \n",
    "단축키로는 `Shift + Enter`, 혹은 `Ctrl + Enter` 입니다.\n",
    "\n",
    "<br>"
   ]
  },
  {
   "cell_type": "markdown",
   "id": "195c1dd7",
   "metadata": {},
   "source": [
    "Jupyter notebook의 파일은 위와 같이 소스 코드와 텍스트를 섞어서 작성할 수 있습니다.     \n",
    "상단에서 소스 코드는 Code, 텍스트는 Markdown으로 표시되는 것을 확인할 수 있습니다."
   ]
  },
  {
   "cell_type": "markdown",
   "id": "c72dab94",
   "metadata": {},
   "source": [
    "이번에는 셀을 새로 만들어 보겠습니다.   \n",
    "아래의 셀을 클릭하고 상단의 Insert 버튼을 눌러서 위(Above)나 아래(Below)에 새로운 셀을 추가해 보세요. 단축키로는 각각 `a`, `b` 입니다."
   ]
  },
  {
   "cell_type": "code",
   "execution_count": 2,
   "id": "e20d8a19",
   "metadata": {
    "scrolled": true
   },
   "outputs": [
    {
     "name": "stdout",
     "output_type": "stream",
     "text": [
      "셀 추가 연습\n"
     ]
    }
   ],
   "source": [
    "print('셀 추가 연습')"
   ]
  },
  {
   "cell_type": "markdown",
   "id": "78ba16ac",
   "metadata": {},
   "source": [
    "주피터 노트북에는 편집 모드와 선택 모드 두 가지 모드가 있습니다.   \n",
    "선택 모드는 코드 셀의 옆을 클릭하면 나타나는 파란색의 모드,    \n",
    "편집 모드는 코드를 클릭하면 나타나는 초록색의 모드입니다.   \n",
    "선택 모드에서 `Enter`, 편집 모드에서 `ESC`를 눌러 다른 모드로 바꿀 수 있습니다.\n"
   ]
  },
  {
   "cell_type": "markdown",
   "id": "808c8215",
   "metadata": {},
   "source": [
    "코드 셀을 작성한 후에는 항상 실행을 해야 합니다.   \n",
    "셀을 실행하게 되면 셀 옆에 ln [2]와 같은 표시가 나타나는데,  \n",
    "현재까지 셀을 총 몇 번 실행했는지를 보여줍니다."
   ]
  },
  {
   "cell_type": "markdown",
   "id": "7aea10c1",
   "metadata": {},
   "source": [
    "\n",
    "### 1.1. Jupyter notebook 주요 단축키 목록\n",
    "\n",
    "\n",
    "* 파란색 : 명령 모드(cell의 추가, 복사, 삭제 등), \"ESC\"\n",
    "  - `H` : 단축키 목록 팝업\n",
    "  - `A` : 위에 cell 추가 \n",
    "  - `B` : 아래에 cell 추가\n",
    "  - `위/아래 화살표` : cell 이동\n",
    "  - `D, D` : cell 삭제\n",
    "  - `M` : cell을 Markdown(문서 작성) 형식으로 변경\n",
    "  - `Y` : cell을 Code(명령어 작성) 형식으로 변경\n",
    "  - `S`, `Ctrl + S` : 저장\n",
    "  \n",
    "  \n",
    "* 초록색 : 수정 모드(각 cell 안에서 명령어 등 입력), \"ENTER\"\n",
    "  - `Tab` : 들여쓰기 혹은 코드 완성\n",
    "  - `Shift + Tab` : 들여쓰기 취소 혹은 툴팁(도움말)\n",
    "  - `Ctrl + /` : 주석처리/해제\n",
    "\n",
    "* cell 실행 \n",
    "  - `Shift + Enter` : 실행하고 다음 cell로 이동\n",
    "  - `Ctrl + Enter` : 실행\n",
    "  \n",
    "\n",
    "<br>\n",
    "\n",
    "\n",
    "\n"
   ]
  },
  {
   "cell_type": "code",
   "execution_count": 3,
   "id": "ad02eaa0",
   "metadata": {},
   "outputs": [],
   "source": [
    "# \"#\"을 붙여서 주석(comment)을 달 수 있습니다."
   ]
  },
  {
   "cell_type": "code",
   "execution_count": 4,
   "id": "04514f9a",
   "metadata": {},
   "outputs": [
    {
     "data": {
      "text/plain": [
       "32"
      ]
     },
     "execution_count": 4,
     "metadata": {},
     "output_type": "execute_result"
    }
   ],
   "source": [
    "# 이 cell에 간단한 사칙 연산을 입력하고 실행해 봅시다.\n",
    "35-24//8\n",
    "\n",
    "# / : 나누기 (소수점 포함)\n",
    "# // : 나누기(소수점 버림)\n",
    "# % : 나머지 연산"
   ]
  },
  {
   "cell_type": "code",
   "execution_count": 5,
   "id": "ab9769da",
   "metadata": {},
   "outputs": [],
   "source": [
    "# 이 cell을 클릭하고 \"M\"을 누르면 Markdown으로 바뀝니다."
   ]
  },
  {
   "cell_type": "markdown",
   "id": "d44263db",
   "metadata": {},
   "source": [
    "#### 이 cell을 클릭하고 \"Y\"를 누르면 Code로 바뀝니다."
   ]
  },
  {
   "cell_type": "markdown",
   "id": "9076aeae",
   "metadata": {},
   "source": [
    "\n",
    "<br>\n",
    "\n",
    "## 2. 새 폴더와 새 노트북 파일 만들기\n",
    "\n",
    "jupyter 메인 페이지에서 경로를 이동하거나 새 폴더 생성 가능  \n",
    "jupyter 메인 페이지 및 노트북 내 상단 메뉴 [File] > [New Notebook]에서 새 노트북 파일 생성  \n",
    "  \n",
    "  \n",
    "\n",
    "### 2.1. 간단한 실습  \n",
    "\n",
    "> 새 노트북 파일에서 `A`, `B` 를 눌러 새로운 cell을 추가하고,   \n",
    "`M`, `Y`를 눌러 마크다운과 코드로 형식을 바꿔봅시다.   \n",
    "`Enter`를 누른 수정모드에서 간단한 수식을 넣고 `Ctrl+Enter`로 실행하고,    \n",
    "`Shift + Enter`로 다시 한번 실행한 다음 차이를 확인합니다.    \n",
    "`Ctrl + /`를 눌러 작성한 스크립트를 주석 처리하거나    \n",
    "직접 `#`을 써서 주석을 입력해봅시다.  \n",
    "\n",
    "[File] > [Download as]로 다양한 형식으로 노트북을 저장 가능  \n",
    "[Cell] > [All output] > [Clear]로 모든 실행 결과를 지울 수 있음\n"
   ]
  },
  {
   "cell_type": "markdown",
   "id": "90ac77b8",
   "metadata": {},
   "source": [
    "\n",
    "<br>\n",
    "<hr>\n",
    "<br>\n",
    "\n",
    "## 3. pip를 활용한 Library 설치\n",
    "\n",
    "Python을 활용해 데이터를 분석하기 위해서는 pandas와 같은 라이브러리 설치가 필수\n",
    "<span style='color:blue;font-weight:bold'>pip</span> 명령어를 활용해서 라이브러리를 설치 가능  \n",
    "해당 명령은 파이썬 코드가 아니라 외부 명령어로, jupyter notebook 안에서 실행하기 위해서 <span style='color:purple;font-weight:bold'>!</span>를 앞에 붙임    \n",
    "\n",
    "> 라이브러리를 설치하기 위해서는 외부망 접속이 가능해야하고, 외부망에서 소스 파일을 다운받아 압축을 풀기 위해서는 특정 폴더에 대한 권한도 필요합니다."
   ]
  },
  {
   "cell_type": "code",
   "execution_count": 6,
   "id": "e80748ed",
   "metadata": {
    "scrolled": true
   },
   "outputs": [],
   "source": [
    "# !pip install numpy pandas matplotlib seaborn plotly xlrd openpyxl"
   ]
  },
  {
   "cell_type": "markdown",
   "id": "5d3030c2",
   "metadata": {},
   "source": [
    "<br>\n",
    "\n",
    "## 4. Library 설치 확인\n",
    "\n",
    "* 4개 결과 출력여부 확인\n",
    "    - openpyxl\n",
    "    - pandas\n",
    "    - plotly\n",
    "    - seaborn\n",
    "    "
   ]
  },
  {
   "cell_type": "code",
   "execution_count": 7,
   "id": "d3ae205a",
   "metadata": {},
   "outputs": [],
   "source": [
    "# Windows \n",
    "#!pip list --format=freeze | findstr /r \"pandas seaborn plotly openpyxl\"\n",
    "# 실습장 내 pip 사용이 어려워, 실행은 하지 않습니다"
   ]
  },
  {
   "cell_type": "markdown",
   "id": "8d007092",
   "metadata": {},
   "source": [
    "<br>\n",
    "<hr>\n",
    "<br>\n",
    "\n",
    "## 5. Library 활용 예제\n",
    "\n",
    "*import*를 활용해서 특정 라이브러리를 불러오기  \n",
    "이후 해당 라이브러리에 포함된 객체나 기능, 함수 등을 활용 가능"
   ]
  },
  {
   "cell_type": "code",
   "execution_count": 8,
   "id": "4c135ae6",
   "metadata": {},
   "outputs": [],
   "source": [
    "import os"
   ]
  },
  {
   "cell_type": "markdown",
   "id": "b7571610",
   "metadata": {},
   "source": [
    "> 아래의 cell에 *os.* 을 입력하고 **Tab**키를 누릅니다. 자동 완성(Auto-completion) 기능을 활용해서 함수 *getcwd()* 를 찾고 **Enter**키를 눌러서 선택합니다.  \n",
    "소괄호를 열고 **Shift+Tab**을 눌러 함수의 도움말을 확인할 수 있습니다.  "
   ]
  },
  {
   "cell_type": "code",
   "execution_count": null,
   "id": "c71e116c",
   "metadata": {},
   "outputs": [],
   "source": []
  },
  {
   "cell_type": "markdown",
   "id": "18429deb",
   "metadata": {},
   "source": [
    "### [실습] \n",
    "위와 같은 방법으로 **os** 라이브러리의 함수 *listdir()* 과 *mkdir()* 을 선택하고 자유롭게 실행하기"
   ]
  },
  {
   "cell_type": "code",
   "execution_count": 9,
   "id": "ffaced60",
   "metadata": {},
   "outputs": [
    {
     "data": {
      "text/plain": [
       "['.ipynb_checkpoints',\n",
       " '01_Jupyter Notebook 활용 및 라이브러리 설치.ipynb',\n",
       " '02_Python 기초 문법.ipynb',\n",
       " '03_데이터 불러오기.ipynb',\n",
       " '04_데이터 결합 및 부분 선택.ipynb',\n",
       " '05_간단한 데이터 집계와 시각화.ipynb',\n",
       " '06_변수 형식 처리 및 파생변수 생성.ipynb',\n",
       " 'log.txt']"
      ]
     },
     "execution_count": 9,
     "metadata": {},
     "output_type": "execute_result"
    }
   ],
   "source": [
    "os.listdir()"
   ]
  },
  {
   "cell_type": "code",
   "execution_count": 10,
   "id": "afddac01",
   "metadata": {},
   "outputs": [],
   "source": [
    "os.mkdir('new')"
   ]
  },
  {
   "cell_type": "code",
   "execution_count": null,
   "id": "af68dc72",
   "metadata": {},
   "outputs": [],
   "source": []
  },
  {
   "cell_type": "code",
   "execution_count": null,
   "id": "9abd74a3",
   "metadata": {},
   "outputs": [],
   "source": []
  },
  {
   "cell_type": "code",
   "execution_count": 11,
   "id": "23282542",
   "metadata": {},
   "outputs": [],
   "source": [
    "# os.delete(), os.rmdir()도 사용 가능합니다. (신중하게 사용하세요)\n"
   ]
  },
  {
   "cell_type": "markdown",
   "id": "69c32fd2",
   "metadata": {},
   "source": [
    "<br>\n",
    "\n",
    "### [실습] \n",
    "\n",
    "1. *import*로 **random** 라이브러리 불러오기\n",
    "2. **random** 라이브러리의 *randint()* 함수를 활용해서 1부터 100까지 숫자 중에서 랜덤으로 하나 선택하기 \n",
    "3. **datetime** 라이브러리를 불러와서 *datetime.datetime.now()* 로 현재 시간 확인하기\n"
   ]
  },
  {
   "cell_type": "code",
   "execution_count": 12,
   "id": "e8cc2038",
   "metadata": {},
   "outputs": [],
   "source": [
    "import random"
   ]
  },
  {
   "cell_type": "code",
   "execution_count": 13,
   "id": "7a27919f",
   "metadata": {},
   "outputs": [
    {
     "data": {
      "text/plain": [
       "6"
      ]
     },
     "execution_count": 13,
     "metadata": {},
     "output_type": "execute_result"
    }
   ],
   "source": [
    "random.randint(1,100)"
   ]
  },
  {
   "cell_type": "code",
   "execution_count": 14,
   "id": "be819db2",
   "metadata": {},
   "outputs": [
    {
     "data": {
      "text/plain": [
       "datetime.datetime(2023, 5, 24, 20, 20, 11, 116381)"
      ]
     },
     "execution_count": 14,
     "metadata": {},
     "output_type": "execute_result"
    }
   ],
   "source": [
    "import datetime\n",
    "datetime.datetime.now()"
   ]
  },
  {
   "cell_type": "markdown",
   "id": "200a702d",
   "metadata": {},
   "source": [
    "#### End of script"
   ]
  }
 ],
 "metadata": {
  "kernelspec": {
   "display_name": "Python 3 (ipykernel)",
   "language": "python",
   "name": "python3"
  },
  "language_info": {
   "codemirror_mode": {
    "name": "ipython",
    "version": 3
   },
   "file_extension": ".py",
   "mimetype": "text/x-python",
   "name": "python",
   "nbconvert_exporter": "python",
   "pygments_lexer": "ipython3",
   "version": "3.10.11"
  }
 },
 "nbformat": 4,
 "nbformat_minor": 5
}
